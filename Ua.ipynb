{
  "nbformat": 4,
  "nbformat_minor": 0,
  "metadata": {
    "colab": {
      "name": "Копия блокнота \"coub.ipynb\"",
      "provenance": [],
      "collapsed_sections": []
    },
    "kernelspec": {
      "name": "python3",
      "display_name": "Python 3"
    },
    "language_info": {
      "name": "python"
    }
  },
  "cells": [
    {
      "cell_type": "code",
      "metadata": {
        "id": "BQWkIHkV2EME",
        "colab": {
          "base_uri": "https://localhost:8080/"
        },
        "outputId": "e4af08d6-bf38-4f6a-da22-caa39ab42520"
      },
      "source": [
        "!git clone https://github.com/ArchiveTeam/ua-grab && cd ua-grab && wget https://cdn.discordapp.com/attachments/853331570219286571/956564970718515250/wget-at_colab -O wget-at && chmod +x wget-at && apt-key adv --keyserver keyserver.ubuntu.com --recv-keys 648ACFD622F3D138 0E98404D386FA1D9 && echo deb http://deb.debian.org/debian buster-backports main contrib > /etc/apt/sources.list.d/backports.list && apt-get update && apt-get -t buster-backports install zstd libzstd-dev libzstd1 --no-install-recommends && python3 -m pip install setuptools wheel && python3 -m pip install --upgrade seesaw2 zstandard requests && apt-get install libgnutls28-dev lua5.1 liblua5.1-0 liblua5.1-0-dev lua-socket rsync"
      ],
      "execution_count": 2,
      "outputs": [
        {
          "output_type": "stream",
          "name": "stdout",
          "text": [
            "fatal: destination path 'ua-grab' already exists and is not an empty directory.\n"
          ]
        }
      ]
    },
    {
      "cell_type": "code",
      "source": [
        "%cd ua-grab"
      ],
      "metadata": {
        "id": "VHIel_BIk6_m",
        "colab": {
          "base_uri": "https://localhost:8080/"
        },
        "outputId": "c1899170-e8f7-47cb-ced4-0e218b23c85e"
      },
      "execution_count": 3,
      "outputs": [
        {
          "output_type": "stream",
          "name": "stdout",
          "text": [
            "/content/ua-grab\n"
          ]
        }
      ]
    },
    {
      "cell_type": "code",
      "metadata": {
        "id": "qCA06w6r6lLz"
      },
      "source": [
        "!run-pipeline3 pipeline.py --concurrent 250 blvxrd --disable-web-server > /dev/null"
      ],
      "execution_count": null,
      "outputs": []
    }
  ]
}